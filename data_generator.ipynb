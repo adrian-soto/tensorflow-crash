{
 "cells": [
  {
   "cell_type": "code",
   "execution_count": 1,
   "metadata": {},
   "outputs": [],
   "source": [
    "import numpy as np\n",
    "from matplotlib import pyplot as plt\n",
    "%matplotlib inline\n",
    "from mpl_toolkits.mplot3d import Axes3D\n",
    "\n",
    "import surfaces as sf"
   ]
  },
  {
   "cell_type": "code",
   "execution_count": 2,
   "metadata": {
    "collapsed": true
   },
   "outputs": [],
   "source": [
    "# Torus parameters\n",
    "R=3\n",
    "r=2"
   ]
  },
  {
   "cell_type": "code",
   "execution_count": 9,
   "metadata": {},
   "outputs": [],
   "source": [
    "# Generate random numbers in a box containing the torus\n",
    "N = 1000000\n",
    "\n",
    "epsilon = 0.10 # box margin as fraction of r\n",
    "\n",
    "xymax = R + r + epsilon*r\n",
    "zmax  = r + epsilon*r\n",
    "\n",
    "xyzmax = np.array([xymax, xymax, zmax])\n",
    "xyzmin = -xyzmax\n",
    "\n",
    "xyz_data = np.random.uniform(-xyzmax, xyzmax,(N,3))"
   ]
  },
  {
   "cell_type": "code",
   "execution_count": null,
   "metadata": {},
   "outputs": [],
   "source": [
    "# Check if points are inside torus and \n",
    "# assign 0/1 value accordingly.\n",
    "\n",
    "t_data = np.zeros((N,1))\n",
    "\n",
    "for i in range(N):\n",
    "    t_data[i] = sf.inside_torus(xyz_data[i,:], R=R, r=r)"
   ]
  },
  {
   "cell_type": "code",
   "execution_count": null,
   "metadata": {},
   "outputs": [],
   "source": [
    "# Visualize data points\n",
    "plot_points = True\n",
    "\n",
    "if plot_points:\n",
    "    \n",
    "    fig = plt.figure()\n",
    "    ax = fig.add_subplot(111, projection='3d')\n",
    "\n",
    "    i_in  = (t_data==1).flatten()\n",
    "    i_out = (t_data==0).flatten()\n",
    "\n",
    "    ax.scatter(xyz_data[i_in,0], \n",
    "               xyz_data[i_in,1], \n",
    "               xyz_data[i_in,2], \n",
    "               '.', s=1, c='b')\n",
    "\n",
    "    ax.scatter(xyz_data[i_out,0], \n",
    "               xyz_data[i_out,1], \n",
    "               xyz_data[i_out,2], \n",
    "               '.', s=1, c='r')"
   ]
  },
  {
   "cell_type": "code",
   "execution_count": null,
   "metadata": {},
   "outputs": [],
   "source": [
    "# Number of points of each class\n",
    "print \"Number of points inside :\", sum(i_in)\n",
    "print \"Number of points outside:\", sum(i_out)"
   ]
  },
  {
   "cell_type": "code",
   "execution_count": null,
   "metadata": {},
   "outputs": [],
   "source": [
    "# Save data to a CSV file\n",
    "xyzt = np.hstack((xyz_data, t_data))\n",
    "filename=\"./donut.csv\"\n",
    "np.savetxt(filename, \n",
    "           xyzt, \n",
    "           delimiter=',',\n",
    "           fmt=['%10.5f', '%10.5f', '%10.5f', '%4d'],\n",
    "           header=' x-coord,   y-coord,   z-coord,  in/out')"
   ]
  }
 ],
 "metadata": {
  "kernelspec": {
   "display_name": "Python 2",
   "language": "python",
   "name": "python2"
  },
  "language_info": {
   "codemirror_mode": {
    "name": "ipython",
    "version": 2
   },
   "file_extension": ".py",
   "mimetype": "text/x-python",
   "name": "python",
   "nbconvert_exporter": "python",
   "pygments_lexer": "ipython2",
   "version": "2.7.13"
  }
 },
 "nbformat": 4,
 "nbformat_minor": 2
}
